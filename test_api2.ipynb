{
 "cells": [
  {
   "cell_type": "code",
   "execution_count": 2,
   "metadata": {},
   "outputs": [],
   "source": [
    "import requests\n",
    "from pprint import pprint"
   ]
  },
  {
   "cell_type": "code",
   "execution_count": null,
   "metadata": {},
   "outputs": [],
   "source": [
    "#root \n",
    "\n",
    "url = 'http://127.0.0.1:8000'\n",
    "response = request.get(url)\n",
    "pprint(response.json())"
   ]
  },
  {
   "cell_type": "code",
   "execution_count": null,
   "metadata": {},
   "outputs": [],
   "source": [
    "#add an item\n",
    "url = 'http://127.0.0.1:8000'\n",
    "response = request.post(url,\n",
    "                        json={\n",
    "                            'prod_name':'ice_cream',\n",
    "                            'price': 5000\n",
    "                            '\n",
    "                        })\n",
    "pprint(response.json())\n",
    "pprint(response.status_code)\n"
   ]
  },
  {
   "cell_type": "code",
   "execution_count": null,
   "metadata": {},
   "outputs": [],
   "source": [
    "#access cart\n",
    "\n",
    "#delete an item\n",
    "url = 'http://127.0.0.1:8000'\n",
    "response = request.delete(url)\n",
    "pprint(response.json())"
   ]
  }
 ],
 "metadata": {
  "kernelspec": {
   "display_name": "Python 3",
   "language": "python",
   "name": "python3"
  },
  "language_info": {
   "codemirror_mode": {
    "name": "ipython",
    "version": 3
   },
   "file_extension": ".py",
   "mimetype": "text/x-python",
   "name": "python",
   "nbconvert_exporter": "python",
   "pygments_lexer": "ipython3",
   "version": "3.10.2"
  }
 },
 "nbformat": 4,
 "nbformat_minor": 2
}
